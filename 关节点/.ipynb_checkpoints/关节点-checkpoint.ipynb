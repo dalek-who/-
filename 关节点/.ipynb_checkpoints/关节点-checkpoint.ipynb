{
 "cells": [
  {
   "cell_type": "markdown",
   "metadata": {},
   "source": [
    "# 关节点\n",
    "- - -\n",
    "假设一个无向图原本是个连通图。假如去掉一个点后，这个图被拆成了多个连通分量，则这个点被称为关节点。一个图里可能有多个关节点  "
   ]
  },
  {
   "cell_type": "code",
   "execution_count": 1,
   "metadata": {},
   "outputs": [],
   "source": [
    "import networkx as nx\n",
    "import matplotlib.pyplot as plt\n",
    "import random"
   ]
  },
  {
   "cell_type": "code",
   "execution_count": 3,
   "metadata": {},
   "outputs": [],
   "source": [
    "#随机生成一个图\n",
    "def random_graph(v_num=10, e_num=20,direction=False):\n",
    "    G = nx.Graph()\n",
    "    if direction:\n",
    "        G=G.to_directed()\n",
    "    G.add_nodes_from(range(v_num))\n",
    "    #max_e_num = e_num if e_num<=v_num*v_num else v_num*v_num\n",
    "    edges = [(random.randint(0,v_num-1),random.randint(0,v_num-1)) for i in range(e_num)]\n",
    "    G.add_edges_from(edges)\n",
    "    return G"
   ]
  },
  {
   "cell_type": "code",
   "execution_count": 43,
   "metadata": {},
   "outputs": [
    {
     "data": {
      "text/plain": [
       "NodeView((0, 1, 2, 3, 4, 5, 6, 7, 8, 9))"
      ]
     },
     "execution_count": 43,
     "metadata": {},
     "output_type": "execute_result"
    }
   ],
   "source": [
    "G.nodes"
   ]
  },
  {
   "cell_type": "code",
   "execution_count": 83,
   "metadata": {},
   "outputs": [],
   "source": [
    "#算法实现\n",
    "def DFS(G,node,articulation,visited,low,count):\n",
    "    if visited[node]:\n",
    "        return\n",
    "    else:\n",
    "        count += 1\n",
    "        visited[node]= count\n",
    "        low[node] = visited[node]\n",
    "        for son in G.neighbors(node):\n",
    "            if visited[son]:\n",
    "                low[node] = min(low[node],visited[son])\n",
    "            else:\n",
    "                DFS(G,son,articulation,visited,low,count)\n",
    "                low[node] = min(low[node],low[son])\n",
    "                if low[son]>=visited[node]:\n",
    "                    articulation[node] = True\n",
    "        return\n",
    "\n",
    "def articulation_point(G):\n",
    "    count = 0\n",
    "    visited = [False]*G.number_of_nodes()\n",
    "    low = [0]*G.number_of_nodes()\n",
    "    articulation = [False]*G.number_of_nodes() #是否为关节点\n",
    "    \n",
    "    for v in G.nodes:\n",
    "        if not visited[v]:\n",
    "            count += 1\n",
    "            visited[v] = count\n",
    "            first_child = True\n",
    "            for son in G.neighbors(v):\n",
    "                if not visited[son]:\n",
    "                    if not first_child:\n",
    "                        articulation[v] = True\n",
    "                    DFS(G,son,articulation,visited,low,count)\n",
    "                    first_child = False\n",
    "    \n",
    "    articulation_list = []\n",
    "    for i in range(G.number_of_nodes()):\n",
    "        if articulation[i]:\n",
    "            articulation_list.append(i)\n",
    "    return articulation_list"
   ]
  },
  {
   "cell_type": "code",
   "execution_count": 92,
   "metadata": {},
   "outputs": [
    {
     "data": {
      "image/png": "[encoded data removed]",
      "text/plain": [
       "<matplotlib.figure.Figure at 0xacc54a8>"
      ]
     },
     "metadata": {},
     "output_type": "display_data"
    },
    {
     "data": {
      "text/plain": [
       "[1, 3, 9]"
      ]
     },
     "execution_count": 92,
     "metadata": {},
     "output_type": "execute_result"
    }
   ],
   "source": [
    "v_num = 10\n",
    "e_num = 12\n",
    "G = random_graph(v_num,e_num)\n",
    "nx.draw(G,with_labels=True)\n",
    "plt.show()\n",
    "articulation_point(G)"
   ]
  },
  {
   "cell_type": "code",
   "execution_count": 67,
   "metadata": {},
   "outputs": [
    {
     "data": {
      "text/plain": [
       "[0, 5, 8]"
      ]
     },
     "execution_count": 67,
     "metadata": {},
     "output_type": "execute_result"
    }
   ],
   "source": []
  },
  {
   "cell_type": "code",
   "execution_count": null,
   "metadata": {},
   "outputs": [],
   "source": []
  }
 ],
 "metadata": {
  "kernelspec": {
   "display_name": "Python 3",
   "language": "python",
   "name": "python3"
  },
  "language_info": {
   "codemirror_mode": {
    "name": "ipython",
    "version": 3
   },
   "file_extension": ".py",
   "mimetype": "text/x-python",
   "name": "python",
   "nbconvert_exporter": "python",
   "pygments_lexer": "ipython3",
   "version": "3.6.4"
  }
 },
 "nbformat": 4,
 "nbformat_minor": 2
}
